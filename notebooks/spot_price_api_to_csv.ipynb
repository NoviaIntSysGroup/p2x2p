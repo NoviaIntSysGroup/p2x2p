{
 "cells": [
  {
   "cell_type": "code",
   "execution_count": null,
   "metadata": {},
   "outputs": [],
   "source": [
    "import pandas as pd\n",
    "\n",
    "from entsoe import EntsoePandasClient\n",
    "\n",
    "from p2x2p.utils.utils import get_config\n",
    "config = get_config()\n",
    "\n",
    "# Use autoreload magic so that .py files can modified without having to restart the kernel\n",
    "%load_ext autoreload\n",
    "%autoreload 2"
   ]
  },
  {
   "cell_type": "markdown",
   "metadata": {},
   "source": [
    "This notebook will download day-ahead spot prices for Finland using ENTSO-E's API. You thus need an API key that you can obtain for free by following the instructions [here](https://transparencyplatform.zendesk.com/hc/en-us/articles/12845911031188-How-to-get-security-token)."
   ]
  },
  {
   "cell_type": "code",
   "execution_count": null,
   "metadata": {},
   "outputs": [],
   "source": [
    "# Replace 'YOUR_API_KEY' with your actual API key\n",
    "api_key = 'YOUR_API_KEY'\n",
    "\n",
    "# Define the time period for the data\n",
    "start = pd.Timestamp(f'2016-1-1 00:00', tz='Europe/Helsinki')\n",
    "end = pd.Timestamp(f'2023-12-31 23:59', tz='Europe/Helsinki')  # One day ahead\n",
    "\n",
    "# Fetch day-ahead prices for Finland\n",
    "client = EntsoePandasClient(api_key=api_key)\n",
    "day_ahead_prices = client.query_day_ahead_prices('FI', start=start, end=end)\n",
    "\n",
    "# Convert the series to a DataFrame and reset the index\n",
    "df = day_ahead_prices.rename_axis('date').reset_index(name='elspot-fi')\n",
    "\n",
    "# Save the data to a CSV file\n",
    "config = get_config()\n",
    "file_path = config[\"data_paths\"][\"elspot_fi\"]\n",
    "df.to_csv(file_path, index=False)\n",
    "\n",
    "# Display the first few rows of the data\n",
    "df"
   ]
  }
 ],
 "metadata": {
  "kernelspec": {
   "display_name": "p2x2p",
   "language": "python",
   "name": "python3"
  },
  "language_info": {
   "codemirror_mode": {
    "name": "ipython",
    "version": 3
   },
   "file_extension": ".py",
   "mimetype": "text/x-python",
   "name": "python",
   "nbconvert_exporter": "python",
   "pygments_lexer": "ipython3",
   "version": "3.11.10"
  }
 },
 "nbformat": 4,
 "nbformat_minor": 2
}
