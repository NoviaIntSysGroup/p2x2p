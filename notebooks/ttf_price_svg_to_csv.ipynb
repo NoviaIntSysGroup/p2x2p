{
 "cells": [
  {
   "cell_type": "code",
   "execution_count": null,
   "id": "d9bdb70f-bc89-4071-b6e2-58a3bdbea523",
   "metadata": {},
   "outputs": [],
   "source": [
    "import numpy as np\n",
    "import pandas as pd\n",
    "import plotly.graph_objs as go\n",
    "\n",
    "from p2x2p.utils.utils import get_config\n",
    "\n",
    "# Get the configuration\n",
    "config = get_config()\n",
    "\n",
    "# Use autoreload magic so that .py files can modified without having to restart the kernel\n",
    "%load_ext autoreload\n",
    "%autoreload 2"
   ]
  },
  {
   "cell_type": "markdown",
   "id": "3ee75152-9709-4094-81d0-4d52ed390605",
   "metadata": {},
   "source": [
    "### TTF price information\n",
    "Weekly TTF prices for natural gas can be obtained from: https://tradingeconomics.com/commodity/eu-natural-gas\n",
    "\n",
    "You can only download the data in svg fomrat for free, but the data trace can be extracted from the svg file by simply copying the data trace from the svg file and scaling it properly by following the instructions below. \n",
    "1. Select 1 week as the time interval to avid getting unnessaryly many data points.\n",
    "2. Select the interval you are interested in, e.g., 2015-12-22 to 2024-01-18.\n",
    "3. Check the actual start and end date in the browser and modify the code below accordingly.\n",
    "4. Check the first and maximal price and modify the code below accordingly.\n",
    "5. Download the data in svg format.\n",
    "6. Open the svg file in an [svg viewer](https://www.svgviewer.dev/) and identify the svg path containing the data, looks like: `<path fill=\"none\" d=\"M ...\"`\n",
    "7. Copy the data (the part within quotation marks after `d=`) into the cell below"
   ]
  },
  {
   "cell_type": "code",
   "execution_count": null,
   "id": "784998e5-d8c5-48b3-bd33-12009e00a058",
   "metadata": {},
   "outputs": [],
   "source": [
    "start_date = \"2015-12-28 00:00:00\"\n",
    "end_date = \"2024-01-15 00:00:00\"\n",
    "first_price = 14.79\n",
    "max_price = 339.20\n",
    "svg_data = \"ADD SVG PATH DATA HERE\""
   ]
  },
  {
   "cell_type": "code",
   "execution_count": null,
   "id": "b27cac9d-89ab-44f5-b34a-e872efdce206",
   "metadata": {},
   "outputs": [],
   "source": [
    "# Extract raw price and date values in pixel coordinates\n",
    "split_data = svg_data.split(\" \")\n",
    "price_raw = np.array(split_data[2::3], dtype=np.float64)\n",
    "date_number = np.array(split_data[1::3], dtype=np.float64)"
   ]
  },
  {
   "cell_type": "code",
   "execution_count": null,
   "id": "1763ede1-3072-47df-92c0-c538c05245c2",
   "metadata": {},
   "outputs": [],
   "source": [
    "ttf_data = pd.DataFrame()\n",
    "\n",
    "# Interpolate the relative datetimes in pixels to absolute datetimes rounded to the nearest hour\n",
    "relative_time = date_number.copy()\n",
    "relative_time = relative_time / relative_time.max()  # Normalize to [0, 1]\n",
    "# Known true datetimes for the first and last relative times\n",
    "start_datetime = pd.Timestamp(start_date)\n",
    "end_datetime = pd.Timestamp(end_date)\n",
    "# Calculate total duration in seconds between the start and end datetimes\n",
    "total_duration = (end_datetime - start_datetime).total_seconds()\n",
    "\n",
    "ttf_data['date'] = start_datetime + pd.to_timedelta(relative_time * total_duration, unit='s')\n",
    "ttf_data['date'] = ttf_data['date'].dt.round('h')\n",
    "\n",
    "# Get the linear equation mapping coordinates in pixels to price\n",
    "price_diff_raw = price_raw[0] - price_raw.min()\n",
    "price_diff = first_price - max_price\n",
    "slope = price_diff / price_diff_raw\n",
    "bias = first_price - slope*price_raw[0]\n",
    "\n",
    "# Convert the raw price values into Euros/MWh\n",
    "ttf_data['TTF (Euro/MWh)'] = price_raw*slope + bias"
   ]
  },
  {
   "cell_type": "code",
   "execution_count": null,
   "id": "64687580",
   "metadata": {},
   "outputs": [],
   "source": [
    "# Create an hourly time index from start to end and interpoalte missing prices\n",
    "hourly_time_index = pd.date_range(start=start_datetime, end=end_datetime, freq='h')\n",
    "ttf_data = ttf_data.set_index('date').reindex(hourly_time_index)\n",
    "ttf_data['TTF (Euro/MWh)'] = ttf_data['TTF (Euro/MWh)'].interpolate(method='linear')\n",
    "ttf_data.reset_index(inplace=True)\n",
    "ttf_data.rename(columns={'index': 'date'}, inplace=True)\n",
    "ttf_data['date'] = (ttf_data['date'].dt.tz_localize('UTC').dt.tz_convert('Europe/Helsinki'))\n",
    "ttf_data"
   ]
  },
  {
   "cell_type": "code",
   "execution_count": null,
   "id": "8704511d-9baa-48e9-bd45-820c2c968843",
   "metadata": {},
   "outputs": [],
   "source": [
    "# Visualize the data to validate that the conversion was succesful\n",
    "fig = go.Figure()\n",
    "# Add data traces\n",
    "fig.add_trace(go.Scattergl(x=ttf_data['date'], y=ttf_data['TTF (Euro/MWh)'], mode='lines', line=dict(color='black'), name='TTF'))\n",
    "# Show the plot\n",
    "fig.update_layout(title=\"Weekly TTF prices\"),\n",
    "fig.update_xaxes(title=\"Date\"),\n",
    "fig.update_yaxes(title=\"TTF price (€/MWh)\"),\n",
    "fig.show()"
   ]
  },
  {
   "cell_type": "code",
   "execution_count": null,
   "id": "f7bcd4ef-2141-4364-b1b2-9b5d0716e82c",
   "metadata": {},
   "outputs": [],
   "source": [
    "# Create a dataframe and save the data to disk\n",
    "ttf_data.to_csv(config['data_paths']['ttf_natural_gas'], index=False)\n",
    "ttf_data.head()"
   ]
  }
 ],
 "metadata": {
  "kernelspec": {
   "display_name": "p2x2p",
   "language": "python",
   "name": "python3"
  },
  "language_info": {
   "codemirror_mode": {
    "name": "ipython",
    "version": 3
   },
   "file_extension": ".py",
   "mimetype": "text/x-python",
   "name": "python",
   "nbconvert_exporter": "python",
   "pygments_lexer": "ipython3",
   "version": "3.11.10"
  }
 },
 "nbformat": 4,
 "nbformat_minor": 5
}
