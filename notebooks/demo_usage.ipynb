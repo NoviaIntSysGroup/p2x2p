{
 "cells": [
  {
   "cell_type": "code",
   "execution_count": null,
   "id": "42ca7a18-e8af-4e6f-93f5-3b7cc9c13c6c",
   "metadata": {},
   "outputs": [],
   "source": [
    "from p2x2p.utils.utils import get_config\n",
    "from p2x2p.strategies.evaluate import print_strategy_summary\n",
    "from p2x2p.strategies import cache, utils\n",
    "from p2x2p.visualizations.plotly_plots import plot_running_strategy, plot_storage_level\n",
    "\n",
    "# Use autoreload magic so that .py files can modified without having to restart the kernel\n",
    "%load_ext autoreload\n",
    "%autoreload 2\n",
    "\n",
    "# Get the configuration\n",
    "config = get_config()"
   ]
  },
  {
   "cell_type": "code",
   "execution_count": null,
   "id": "0715a64d-90db-40d7-bf12-fd53e771ff47",
   "metadata": {},
   "outputs": [],
   "source": [
    "# List the default parameters\n",
    "params = config['default_params'].copy()\n",
    "for k, v in params.items():\n",
    "    print(f'{k}: {v}')"
   ]
  },
  {
   "cell_type": "code",
   "execution_count": null,
   "id": "ae768be9",
   "metadata": {},
   "outputs": [],
   "source": [
    "# Change any parameters of interest, e.g., the strategy which is set by changing the 'name' parameter\n",
    "# Valid strategies: ['infinite_storage', 'no_horizon', 'infinite_horizon', 'moving_horizon']\n",
    "params = config['default_params'].copy()\n",
    "params['year'] = 2022\n",
    "params['name'] = 'moving_horizon'\n",
    "\n",
    "strategy = cache.get_strategy(params)\n",
    "print_strategy_summary(strategy)"
   ]
  },
  {
   "cell_type": "code",
   "execution_count": null,
   "id": "f92c5709",
   "metadata": {},
   "outputs": [],
   "source": [
    "data = utils.get_data(params)\n",
    "fig = plot_running_strategy(data, strategy, params)\n",
    "fig = plot_storage_level(data, strategy, params)"
   ]
  }
 ],
 "metadata": {
  "kernelspec": {
   "display_name": "p2x2p",
   "language": "python",
   "name": "python3"
  },
  "language_info": {
   "codemirror_mode": {
    "name": "ipython",
    "version": 3
   },
   "file_extension": ".py",
   "mimetype": "text/x-python",
   "name": "python",
   "nbconvert_exporter": "python",
   "pygments_lexer": "ipython3",
   "version": "3.11.10"
  }
 },
 "nbformat": 4,
 "nbformat_minor": 5
}
