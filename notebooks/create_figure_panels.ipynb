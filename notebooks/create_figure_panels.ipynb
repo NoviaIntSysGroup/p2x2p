{
 "cells": [
  {
   "cell_type": "code",
   "execution_count": null,
   "metadata": {},
   "outputs": [],
   "source": [
    "# Use autoreload magic so that .py files can modified without having to restart the kernel\n",
    "%load_ext autoreload\n",
    "%autoreload 2"
   ]
  },
  {
   "cell_type": "code",
   "execution_count": null,
   "metadata": {},
   "outputs": [],
   "source": [
    "from p2x2p.report_figures.mfrr_overview import plot_all_panels\n",
    "plot_all_panels()"
   ]
  },
  {
   "cell_type": "code",
   "execution_count": null,
   "metadata": {},
   "outputs": [],
   "source": [
    "from p2x2p.report_figures.figure_1 import plot_all_panels\n",
    "plot_all_panels()"
   ]
  },
  {
   "cell_type": "code",
   "execution_count": null,
   "metadata": {},
   "outputs": [],
   "source": [
    "from p2x2p.report_figures.figure_2 import plot_all_panels\n",
    "plot_all_panels()"
   ]
  },
  {
   "cell_type": "code",
   "execution_count": null,
   "metadata": {},
   "outputs": [],
   "source": [
    "from p2x2p.report_figures.figure_3 import plot_all_panels\n",
    "plot_all_panels(True)"
   ]
  },
  {
   "cell_type": "code",
   "execution_count": null,
   "metadata": {},
   "outputs": [],
   "source": [
    "from p2x2p.report_figures.figure_4 import plot_all_panels\n",
    "plot_all_panels()"
   ]
  },
  {
   "cell_type": "code",
   "execution_count": null,
   "metadata": {},
   "outputs": [],
   "source": [
    "from p2x2p.report_figures.figure_5 import plot_all_panels\n",
    "plot_all_panels(True)"
   ]
  },
  {
   "cell_type": "code",
   "execution_count": null,
   "metadata": {},
   "outputs": [],
   "source": [
    "from p2x2p.report_figures.figure_6 import plot_all_panels\n",
    "plot_all_panels()"
   ]
  }
 ],
 "metadata": {
  "kernelspec": {
   "display_name": "p2x2p",
   "language": "python",
   "name": "python3"
  },
  "language_info": {
   "codemirror_mode": {
    "name": "ipython",
    "version": 3
   },
   "file_extension": ".py",
   "mimetype": "text/x-python",
   "name": "python",
   "nbconvert_exporter": "python",
   "pygments_lexer": "ipython3",
   "version": "3.11.10"
  }
 },
 "nbformat": 4,
 "nbformat_minor": 4
}
